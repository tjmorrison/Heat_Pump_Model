{
 "cells": [
  {
   "cell_type": "markdown",
   "metadata": {},
   "source": [
    "To: Laurie McGinley \n",
    "From: Travis Morrison\n",
    "University of Utah, Dept. of Mechanical Engineering\n",
    "\n",
    "May 6, 2021\n",
    "\n",
    "Goal:\n",
    "Here we are working towards validating the calculations for a new Direct Air Capture method for application to a cooling tower.\n",
    "\n",
    "Provided assumptions: \n",
    "Assuming the following: 70% of the cooling towers in American are operatting at 70%. If this is true then Rob says that 2520000 cubic feet of air is filtered everyday. \n",
    "    \n",
    "Initial thoughts about the first approximation: What I'm finding is that there are several different cooling towers which operate differently and have different flow rates. So this analysis will have to be very crude until we have more accurate flow rates based on the cooling towers choosen for the application. I think for conseravtive estimates we choose a passive tower to begin. We also will need to consider the losses of a filter over the air intake. Also is this filter going on the air intake or outlet, as the mass flow rate is different for moist and dry air?\n",
    "Okay---Let's go with these assumptions provided, as well as my adjustments\n"
   ]
  },
  {
   "cell_type": "code",
   "execution_count": 15,
   "metadata": {},
   "outputs": [
    {
     "name": "stdout",
     "output_type": "stream",
     "text": [
      "Air moved by 1 tower in a day: 1449013.10 [m^3/day]\n"
     ]
    }
   ],
   "source": [
    "#Assumptions:\n",
    "Density_air = 1.225 #km/m3\\n\",    \n",
    "Area_inlet = 5 #m^2 typical forced water towers have fan areas from 24 in to 10 m\n",
    "Air_velocity = 5*0.44704 #mph to m/s\n",
    "Air_mass_flow_rate = Density_air*Area_inlet*Air_velocity #kg/s\n",
    "percent_air_carbon = 0.04 \n",
    "Caputure_effiency_rate = 0.7 #Provided effeciency \n",
    "Impediance_filter = 0.20 #lets say this filter reduces the mass flow rate by 20%, I'm not really sure here\n",
    "Density_CO2 = 1.82 #kg/m3 at standard air and pressure\n",
    "Price_carbon = 20 #$/ton\n",
    "Total_number_Towers = 2000000 #Total number of cooling towers in US\n",
    "Frac_towers_with_filter = 0.2 #fraction of towers with system\n",
    "Frac_Carbon_Burned = 0.0 #Crudely well assume that we will need to burn 20% more carbon to capture said carbon\n",
    "\n",
    "#Calculations:\n",
    "Tot_air_moved = Air_mass_flow_rate*3600*24*Density_air #kg/day\n",
    "print(\"Air moved by 1 tower in a day: %6.2f [m^3/day]\" % (Tot_air_moved))"
   ]
  },
  {
   "cell_type": "code",
   "execution_count": 20,
   "metadata": {},
   "outputs": [
    {
     "name": "stdout",
     "output_type": "stream",
     "text": [
      "Total carbon removed in Kg per day for 1 tower: 590.73 [kg/Day]\n",
      "Total carbon removed in Tons per day for 1 tower:   0.65 [Ton/Day]\n",
      "Total carbon removed in Tons per year for 1 tower: 237.68  [Ton/Year]\n",
      "Total carbon removed in Tons per year for 20 percent of US towers: 95071056.99 [Ton/Year]\n",
      "Total revenue in Tons per year for 20 percent of US towers: 1901421139.81 [$/year]\n"
     ]
    }
   ],
   "source": [
    "frac_air_carbon = percent_air_carbon/100 #Convert % carbon to fraction\n",
    "Total_air_moved_with_filter = (1-Impediance_filter)*Tot_air_moved\n",
    "Total_carbon_removed = (Total_air_moved_with_filter*frac_air_carbon)*Caputure_effiency_rate\n",
    "Total_carbon_removed = Total_carbon_removed - Total_carbon_removed*Frac_Carbon_Burned\n",
    "\n",
    "print(\"Total carbon removed in Kg per day for 1 tower: %6.2f [kg/Day]\" % (Total_carbon_removed*Density_CO2))\n",
    "print(\"Total carbon removed in Tons per day for 1 tower: %6.2f [Ton/Day]\" % ((Total_carbon_removed*Density_CO2)*0.00110231))\n",
    "print(\"Total carbon removed in Tons per year for 1 tower: %6.2f  [Ton/Year]\" % (((Total_carbon_removed*Density_CO2)*0.00110231)*365))\n",
    "\n",
    "Towers_with_filter = Total_number_Towers*Frac_towers_with_filter;\n",
    "Tons_CO2_removed_allyear = Towers_with_filter*((Total_carbon_removed*Density_CO2)*0.00110231)*365;\n",
    "print(\"Total carbon removed in Tons per year for 20 percent of US towers: %6.2f [Ton/Year]\" % (Tons_CO2_removed_allyear))\n",
    "print(\"Total revenue in Tons per year for 20 percent of US towers: %6.2f [$/year]\" % (Tons_CO2_removed_allyear*Price_carbon) )"
   ]
  },
  {
   "cell_type": "code",
   "execution_count": null,
   "metadata": {},
   "outputs": [],
   "source": []
  }
 ],
 "metadata": {
  "kernelspec": {
   "display_name": "Python 3",
   "language": "python",
   "name": "python3"
  },
  "language_info": {
   "codemirror_mode": {
    "name": "ipython",
    "version": 3
   },
   "file_extension": ".py",
   "mimetype": "text/x-python",
   "name": "python",
   "nbconvert_exporter": "python",
   "pygments_lexer": "ipython3",
   "version": "3.8.5"
  }
 },
 "nbformat": 4,
 "nbformat_minor": 4
}
